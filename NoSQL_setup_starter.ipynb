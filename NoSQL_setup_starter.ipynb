{
 "cells": [
  {
   "cell_type": "markdown",
   "id": "9a57c4c6",
   "metadata": {},
   "source": [
    "# Eat Safe, Love"
   ]
  },
  {
   "cell_type": "markdown",
   "id": "664e3c1f",
   "metadata": {},
   "source": [
    "Import the data provided in the `establishments.json` file from your Terminal. Name the database `uk_food` and the collection `establishments`.\n",
    "\n",
    "Within this markdown cell, copy the line of text you used to import the data from your Terminal. This way, future analysts will be able to repeat your process.\n",
    "\n",
    "e.g.: Import the dataset with `YOUR IMPORT TEXT HERE`"
   ]
  },
  {
   "cell_type": "markdown",
   "id": "064ef857",
   "metadata": {},
   "source": [
    "## Part 1: Database and Jupyter Notebook Set Up"
   ]
  },
  {
   "cell_type": "code",
   "execution_count": 60,
   "id": "3ecdd008",
   "metadata": {},
   "outputs": [],
   "source": [
    "# Import dependencies\n",
    "from pymongo import MongoClient\n",
    "from pprint import pprint"
   ]
  },
  {
   "cell_type": "code",
   "execution_count": 61,
   "metadata": {},
   "outputs": [
    {
     "data": {
      "text/plain": [
       "<pymongo.results.InsertManyResult at 0x1b6a2073a00>"
      ]
     },
     "execution_count": 61,
     "metadata": {},
     "output_type": "execute_result"
    }
   ],
   "source": [
    "from pymongo import MongoClient\n",
    "import json\n",
    "\n",
    "# Connection details\n",
    "host = 'localhost'\n",
    "port = 27017\n",
    "database_name = 'uk_food'\n",
    "collection_name = 'establisments'\n",
    "json_file_path = \"C:/Users/DeMiko Birden/Downloads/Starter_Code (9)/Starter_Code/Resources/establishments.json\"  \n",
    "\n",
    "# Connect to MongoDB\n",
    "client = MongoClient(host, port)\n",
    "db = client[database_name]\n",
    "collection = db[collection_name]\n",
    "\n",
    "# Read JSON file\n",
    "with open(json_file_path, 'r') as file:\n",
    "    data = json.load(file)\n",
    "\n",
    "# Insert data into MongoDB collection\n",
    "collection.insert_many(data)\n",
    "\n",
    "\n"
   ]
  },
  {
   "cell_type": "code",
   "execution_count": 62,
   "id": "59390c4a",
   "metadata": {},
   "outputs": [],
   "source": [
    "# Create an instance of MongoClient\n",
    "mongo = MongoClient(port=27017)\n",
    "from pymongo import MongoClient\n",
    "\n",
    "# Database\n",
    "database_name = \"uk_food\"\n",
    "\n",
    "# Construct the MongoDB URI\n",
    "mongo_uri = \"mongodb://localhost:27017/\"\n",
    "\n",
    "# Create a MongoClient\n",
    "client = MongoClient(mongo_uri)\n",
    "\n",
    "# Access database\n",
    "database = client[database_name]\n",
    "\n",
    "\n"
   ]
  },
  {
   "cell_type": "code",
   "execution_count": 63,
   "id": "7f9ececa",
   "metadata": {},
   "outputs": [
    {
     "name": "stdout",
     "output_type": "stream",
     "text": [
      "Databases: ['admin', 'config', 'local', 'practice', 'uk_food']\n"
     ]
    }
   ],
   "source": [
    "# confirm that our new database was created\n",
    "print(\"Databases:\", client.list_database_names())\n",
    "\n"
   ]
  },
  {
   "cell_type": "code",
   "execution_count": 64,
   "metadata": {},
   "outputs": [
    {
     "name": "stdout",
     "output_type": "stream",
     "text": [
      "Collections: ['establishments', 'establisment']\n"
     ]
    }
   ],
   "source": [
    "print(\"Collections:\", database.list_collection_names())"
   ]
  },
  {
   "cell_type": "code",
   "execution_count": 65,
   "id": "71e373c1",
   "metadata": {},
   "outputs": [],
   "source": [
    "# assign the uk_food database to a variable name\n",
    "db = mongo['uk_food']"
   ]
  },
  {
   "cell_type": "code",
   "execution_count": 66,
   "metadata": {},
   "outputs": [
    {
     "name": "stdout",
     "output_type": "stream",
     "text": [
      "Collections in 'uk_food' database: ['establishments', 'establisment']\n"
     ]
    }
   ],
   "source": [
    "from pymongo import MongoClient\n",
    "\n",
    "# review the collections in our new database\n",
    "\n",
    "\n",
    "# Replace \"uk_food\" with the actual name of your database\n",
    "database_name = \"uk_food\"\n",
    "\n",
    "# Construct the MongoDB URI\n",
    "mongo_uri = \"mongodb://localhost:27017/\"\n",
    "\n",
    "# Create a MongoClient\n",
    "client = MongoClient(mongo_uri)\n",
    "\n",
    "# Access the 'uk_food' database and assign it to a variable\n",
    "uk_food_db = client[database_name]\n",
    "\n",
    "# List the available collections in the 'uk_food' database\n",
    "collections = uk_food_db.list_collection_names()\n",
    "\n",
    "# Print the collections\n",
    "print(\"Collections in 'uk_food' database:\", collections)\n",
    "\n"
   ]
  },
  {
   "cell_type": "code",
   "execution_count": null,
   "metadata": {},
   "outputs": [],
   "source": []
  },
  {
   "cell_type": "code",
   "execution_count": 67,
   "id": "6a0d92df",
   "metadata": {},
   "outputs": [
    {
     "name": "stdout",
     "output_type": "stream",
     "text": [
      "Collections in uk_food: ['establishments', 'establisment']\n"
     ]
    }
   ],
   "source": [
    "# List collections in the uk_food database\n",
    "print(\"Collections in uk_food:\", db.list_collection_names())\n"
   ]
  },
  {
   "cell_type": "code",
   "execution_count": 68,
   "id": "11c9f11b",
   "metadata": {},
   "outputs": [],
   "source": [
    "# assign the collection to a variable\n",
    "establishments = db['establishments']"
   ]
  },
  {
   "cell_type": "code",
   "execution_count": 69,
   "metadata": {},
   "outputs": [
    {
     "name": "stdout",
     "output_type": "stream",
     "text": [
      "Databases: ['admin', 'config', 'local', 'practice', 'uk_food']\n",
      "Collections in 'uk_food' database: ['establishments', 'establisment']\n",
      "One document in 'establishments' collection:\n",
      "{'AddressLine1': '146A Plumstead Rd',\n",
      " 'AddressLine2': 'London',\n",
      " 'AddressLine3': 'London',\n",
      " 'BusinessName': 'Penang Flavours',\n",
      " 'BusinessType': 'Restaurant/Cafe/Canteen',\n",
      " 'Distance': 4623.972328074718,\n",
      " 'LocalAuthorityCode': '511',\n",
      " 'LocalAuthorityEmailAddress': 'health@royalgreenwich.gov.uk',\n",
      " 'LocalAuthorityName': 'Greenwich',\n",
      " 'LocalAuthorityWebSite': 'http://www.royalgreenwich.gov.uk',\n",
      " 'NewRatingPending': True,\n",
      " 'PostCode': 'SE18 7DY',\n",
      " 'RightToReply': '',\n",
      " 'SchemeType': 'FHRS',\n",
      " '_id': ObjectId('656a55c08867efcba54ec475'),\n",
      " 'geocode': {'latitude': '51.49014200', 'longitude': '0.08384000'},\n",
      " 'scores': {'ConfidenceInManagement': '', 'Hygiene': '', 'Structural': ''}}\n"
     ]
    }
   ],
   "source": [
    "# Import necessary libraries\n",
    "from pymongo import MongoClient\n",
    "from pprint import pprint\n",
    "\n",
    "# Create an instance of the Mongo Client\n",
    "client = MongoClient()\n",
    "\n",
    "# Confirm database creation and data loading\n",
    "# List databases\n",
    "print(\"Databases:\", client.list_database_names())\n",
    "\n",
    "# Access the 'uk_food' database\n",
    "uk_food_db = client[\"uk_food\"]\n",
    "\n",
    "# List collections in the 'uk_food' database\n",
    "print(\"Collections in 'uk_food' database:\", uk_food_db.list_collection_names())\n",
    "\n",
    "# Find and display one document in the 'establishments' collection\n",
    "establishments_collection = uk_food_db[\"establishments\"]\n",
    "document = establishments_collection.find_one()\n",
    "print(\"One document in 'establishments' collection:\")\n",
    "pprint(document)\n",
    "\n",
    "# Assign the 'establishments' collection to a variable\n",
    "establishments = establishments_collection\n"
   ]
  },
  {
   "cell_type": "markdown",
   "id": "d5671434",
   "metadata": {},
   "source": [
    "## Part 2: Update the Database"
   ]
  },
  {
   "cell_type": "markdown",
   "id": "314bd884",
   "metadata": {},
   "source": [
    "1. An exciting new halal restaurant just opened in Greenwich, but hasn't been rated yet. The magazine has asked you to include it in your analysis. Add the following restaurant \"Penang Flavours\" to the database."
   ]
  },
  {
   "cell_type": "code",
   "execution_count": 70,
   "id": "c2da7648",
   "metadata": {},
   "outputs": [],
   "source": [
    "from pymongo import MongoClient\n",
    "\n",
    "# Connect to your MongoDB instance\n",
    "mongo_uri = \"mongodb://localhost:27017/\"\n",
    "client = MongoClient(\"mongo_uri\")\n",
    "database = client[\"uk_food\"]\n",
    "collection = database[\"establishments\"]\n",
    "\n",
    "# Create a dictionary for the new restaurant data\n",
    "new_restaurant_data = {\n",
    "    \"BusinessName\": \"Penang Flavours\",\n",
    "    \"BusinessType\": \"Restaurant/Cafe/Canteen\",\n",
    "    \"AddressLine1\": \"146A Plumstead Rd\",\n",
    "    \"AddressLine2\": \"London\",\n",
    "    \"AddressLine3\": \"London\",\n",
    "    \"PostCode\": \"SE18 7DY\",\n",
    "    \"LocalAuthorityCode\": \"511\",\n",
    "    \"LocalAuthorityName\": \"Greenwich\",\n",
    "    \"LocalAuthorityWebSite\": \"http://www.royalgreenwich.gov.uk\",\n",
    "    \"LocalAuthorityEmailAddress\": \"health@royalgreenwich.gov.uk\",\n",
    "    \"scores\": {\n",
    "        \"Hygiene\": \"\",\n",
    "        \"Structural\": \"\",\n",
    "        \"ConfidenceInManagement\": \"\"\n",
    "    },\n",
    "    \"SchemeType\": \"FHRS\",\n",
    "    \"geocode\": {\n",
    "        \"longitude\": \"0.08384000\",\n",
    "        \"latitude\": \"51.49014200\"\n",
    "    },\n",
    "    \"RightToReply\": \"\",\n",
    "    \"Distance\": 4623.9723280747176,\n",
    "    \"NewRatingPending\": True\n",
    "}"
   ]
  },
  {
   "cell_type": "code",
   "execution_count": 71,
   "metadata": {},
   "outputs": [],
   "source": [
    "from pymongo import MongoClient\n",
    "from pymongo.errors import ServerSelectionTimeoutError\n",
    "\n",
    "try:\n",
    "    client = MongoClient(\"mongodb://localhost:27017/\")\n",
    "    # The rest of your code goes here\n",
    "    collection = client.uk_food.establishments\n",
    "    # Insert your data\n",
    "    collection.insert_one(new_restaurant_data)\n",
    "\n",
    "except ServerSelectionTimeoutError as err:\n",
    "    print(f\"Error connecting to MongoDB: {err}\")\n"
   ]
  },
  {
   "cell_type": "code",
   "execution_count": 72,
   "metadata": {},
   "outputs": [
    {
     "name": "stdout",
     "output_type": "stream",
     "text": [
      "DuplicateKeyError: E11000 duplicate key error collection: uk_food.establishments index: _id_ dup key: { _id: ObjectId('656a5b5e8867efcba55096b0') }, full error: {'index': 0, 'code': 11000, 'errmsg': \"E11000 duplicate key error collection: uk_food.establishments index: _id_ dup key: { _id: ObjectId('656a5b5e8867efcba55096b0') }\", 'keyPattern': {'_id': 1}, 'keyValue': {'_id': ObjectId('656a5b5e8867efcba55096b0')}}\n"
     ]
    }
   ],
   "source": [
    "from pymongo.errors import DuplicateKeyError\n",
    "\n",
    "try:\n",
    "    # Insert the new restaurant into the collection\n",
    "    collection.insert_one(new_restaurant_data)\n",
    "\n",
    "except DuplicateKeyError as e:\n",
    "    print(f\"DuplicateKeyError: {e}\")\n",
    "    # Handle the duplicate key error, update existing document or take appropriate action.\n"
   ]
  },
  {
   "cell_type": "code",
   "execution_count": 73,
   "id": "63bb10f9",
   "metadata": {},
   "outputs": [
    {
     "name": "stdout",
     "output_type": "stream",
     "text": [
      "New restaurant found:\n",
      "{'_id': ObjectId('656a55c08867efcba54ec475'), 'BusinessName': 'Penang Flavours', 'BusinessType': 'Restaurant/Cafe/Canteen', 'AddressLine1': '146A Plumstead Rd', 'AddressLine2': 'London', 'AddressLine3': 'London', 'PostCode': 'SE18 7DY', 'LocalAuthorityCode': '511', 'LocalAuthorityName': 'Greenwich', 'LocalAuthorityWebSite': 'http://www.royalgreenwich.gov.uk', 'LocalAuthorityEmailAddress': 'health@royalgreenwich.gov.uk', 'scores': {'Hygiene': '', 'Structural': '', 'ConfidenceInManagement': ''}, 'SchemeType': 'FHRS', 'geocode': {'longitude': '0.08384000', 'latitude': '51.49014200'}, 'RightToReply': '', 'Distance': 4623.972328074718, 'NewRatingPending': True}\n"
     ]
    }
   ],
   "source": [
    "# Check that the new restaurant was inserted\n",
    "result = collection.find_one({\"BusinessName\": \"Penang Flavours\"})\n",
    "\n",
    "if result:\n",
    "    print(\"New restaurant found:\")\n",
    "    print(result)\n",
    "else:\n",
    "    print(\"New restaurant not found.\")\n"
   ]
  },
  {
   "cell_type": "markdown",
   "id": "0ef4395a",
   "metadata": {},
   "source": [
    "2. Find the BusinessTypeID for \"Restaurant/Cafe/Canteen\" and return only the `BusinessTypeID` and `BusinessType` fields."
   ]
  },
  {
   "cell_type": "code",
   "execution_count": 88,
   "id": "93c63829",
   "metadata": {},
   "outputs": [],
   "source": [
    "# Find the BusinessTypeID for \"Restaurant/Cafe/Canteen\" and return only the BusinessTypeID and BusinessType fields\n",
    "restaurant_type_data = collection.find_one(\n",
    "    {\"BusinessType\": \"Restaurant/Cafe/Canteen\"},\n",
    "    {\"BusinessTypeID\", \"BusinessType\"}\n",
    ")"
   ]
  },
  {
   "cell_type": "code",
   "execution_count": 76,
   "metadata": {},
   "outputs": [
    {
     "name": "stdout",
     "output_type": "stream",
     "text": [
      "Found data: {'_id': ObjectId('656a55c08867efcba54ec475'), 'BusinessType': 'Restaurant/Cafe/Canteen'}\n",
      "BusinessTypeID not found or does not exist in the data.\n"
     ]
    }
   ],
   "source": [
    "# Find the BusinessTypeID for \"Restaurant/Cafe/Canteen\"\n",
    "restaurant_type_data = collection.find_one(\n",
    "    {\"BusinessType\": \"Restaurant/Cafe/Canteen\"},\n",
    "    {\"BusinessTypeID\": 1, \"BusinessType\": 1}\n",
    ")\n",
    "\n",
    "# Print the data for debugging\n",
    "print(\"Found data:\", restaurant_type_data)\n",
    "\n",
    "# Check if the key exists before updating\n",
    "if restaurant_type_data and \"BusinessTypeID\" in restaurant_type_data:\n",
    "    # Update the new restaurant with the correct BusinessTypeID\n",
    "    collection.update_one(\n",
    "        {\"BusinessName\": \"Penang Flavours\"},\n",
    "        {\"$set\": {\"BusinessTypeID\": restaurant_type_data[\"BusinessTypeID\"]}}\n",
    "    )\n",
    "\n",
    "    # Check the updated restaurant document\n",
    "    updated_result = collection.find_one({\"BusinessName\": \"Penang Flavours\"})\n",
    "    print(\"Updated restaurant:\")\n",
    "    print(updated_result)\n",
    "else:\n",
    "    print(\"BusinessTypeID not found or does not exist in the data.\")\n"
   ]
  },
  {
   "cell_type": "markdown",
   "id": "4e570caf",
   "metadata": {},
   "source": [
    "3. Update the new restaurant with the `BusinessTypeID` you found."
   ]
  },
  {
   "cell_type": "markdown",
   "id": "67281254",
   "metadata": {},
   "source": [
    "4. The magazine is not interested in any establishments in Dover, so check how many documents contain the Dover Local Authority. Then, remove any establishments within the Dover Local Authority from the database, and check the number of documents to ensure they were deleted."
   ]
  },
  {
   "cell_type": "code",
   "execution_count": 79,
   "id": "768474a6",
   "metadata": {},
   "outputs": [
    {
     "name": "stdout",
     "output_type": "stream",
     "text": [
      "Number of documents with LocalAuthorityName as 'Dover': 0\n"
     ]
    }
   ],
   "source": [
    "# Find how many documents have LocalAuthorityName as \"Dover\"\n",
    "dover_documents_count = collection.count_documents({\"LocalAuthorityName\": \"Dover\"})\n",
    "print(f\"Number of documents with LocalAuthorityName as 'Dover': {dover_documents_count}\")\n"
   ]
  },
  {
   "cell_type": "code",
   "execution_count": 80,
   "id": "a11d5f1b",
   "metadata": {},
   "outputs": [
    {
     "name": "stdout",
     "output_type": "stream",
     "text": [
      "Number of documents deleted: 0\n"
     ]
    }
   ],
   "source": [
    "# Delete all documents with LocalAuthorityName as \"Dover\"\n",
    "result = collection.delete_many({\"LocalAuthorityName\": \"Dover\"})\n",
    "\n",
    "# Print the number of deleted documents\n",
    "print(f\"Number of documents deleted: {result.deleted_count}\")\n"
   ]
  },
  {
   "cell_type": "code",
   "execution_count": 81,
   "id": "2a51aba0",
   "metadata": {},
   "outputs": [
    {
     "name": "stdout",
     "output_type": "stream",
     "text": [
      "No remaining documents include Dover.\n"
     ]
    }
   ],
   "source": [
    "# Check if any remaining documents include Dover\n",
    "# Check if any remaining documents include Dover\n",
    "remaining_dover_documents_count = collection.count_documents({\"LocalAuthorityName\": \"Dover\"})\n",
    "\n",
    "# Print the result\n",
    "if remaining_dover_documents_count == 0:\n",
    "    print(\"No remaining documents include Dover.\")\n",
    "else:\n",
    "    print(f\"There are still {remaining_dover_documents_count} documents with Dover.\")\n",
    "\n"
   ]
  },
  {
   "cell_type": "code",
   "execution_count": 82,
   "id": "8c356f7b",
   "metadata": {},
   "outputs": [
    {
     "name": "stdout",
     "output_type": "stream",
     "text": [
      "There are remaining documents in the collection.\n",
      "An example remaining document:\n",
      "{'_id': ObjectId('656a55c08867efcba54ec475'), 'BusinessName': 'Penang Flavours', 'BusinessType': 'Restaurant/Cafe/Canteen', 'AddressLine1': '146A Plumstead Rd', 'AddressLine2': 'London', 'AddressLine3': 'London', 'PostCode': 'SE18 7DY', 'LocalAuthorityCode': '511', 'LocalAuthorityName': 'Greenwich', 'LocalAuthorityWebSite': 'http://www.royalgreenwich.gov.uk', 'LocalAuthorityEmailAddress': 'health@royalgreenwich.gov.uk', 'scores': {'Hygiene': '', 'Structural': '', 'ConfidenceInManagement': ''}, 'SchemeType': 'FHRS', 'geocode': {'longitude': '0.08384000', 'latitude': '51.49014200'}, 'RightToReply': '', 'Distance': 4623.972328074718, 'NewRatingPending': True}\n"
     ]
    }
   ],
   "source": [
    "# Check that other documents remain with 'find_one'\n",
    "remaining_document = collection.find_one()\n",
    "\n",
    "# Print the result\n",
    "if remaining_document:\n",
    "    print(\"There are remaining documents in the collection.\")\n",
    "    print(\"An example remaining document:\")\n",
    "    print(remaining_document)\n",
    "else:\n",
    "    print(\"No documents remain in the collection.\")\n"
   ]
  },
  {
   "attachments": {},
   "cell_type": "markdown",
   "id": "e9f1662d",
   "metadata": {},
   "source": [
    "5. Some of the number values are stored as strings, when they should be stored as numbers."
   ]
  },
  {
   "attachments": {},
   "cell_type": "markdown",
   "id": "c46df2df",
   "metadata": {},
   "source": [
    "Use `update_many` to convert `latitude` and `longitude` to decimal numbers."
   ]
  },
  {
   "cell_type": "code",
   "execution_count": 84,
   "id": "fd4112ce",
   "metadata": {},
   "outputs": [
    {
     "name": "stdout",
     "output_type": "stream",
     "text": [
      "Data type for longitude and latitude updated to Decimal128.\n"
     ]
    }
   ],
   "source": [
    "# Change the data type from String to Decimal for longitude and latitude\n",
    "from bson import Decimal128\n",
    "\n",
    "collection.update_many({}, {\n",
    "    \"$set\": {\n",
    "        \"geocode.longitude\": Decimal128(\"0.0\"),  \n",
    "        \"geocode.latitude\": Decimal128(\"0.0\")   \n",
    "    }\n",
    "})\n",
    "\n",
    "print(\"Data type for longitude and latitude updated to Decimal128.\")\n",
    "\n"
   ]
  },
  {
   "attachments": {},
   "cell_type": "markdown",
   "id": "142e319c",
   "metadata": {},
   "source": [
    "Use `update_many` to convert `RatingValue` to integer numbers."
   ]
  },
  {
   "cell_type": "code",
   "execution_count": 85,
   "id": "04430a5b",
   "metadata": {},
   "outputs": [
    {
     "data": {
      "text/plain": [
       "<pymongo.results.UpdateResult at 0x1b6a2a99600>"
      ]
     },
     "execution_count": 85,
     "metadata": {},
     "output_type": "execute_result"
    }
   ],
   "source": [
    "# Set non 1-5 Rating Values to Null\n",
    "non_ratings = [\"AwaitingInspection\", \"Awaiting Inspection\", \"AwaitingPublication\", \"Pass\", \"Exempt\"]\n",
    "establishments.update_many({\"RatingValue\": {\"$in\": non_ratings}}, [ {'$set':{ \"RatingValue\" : None}} ])"
   ]
  },
  {
   "cell_type": "code",
   "execution_count": 86,
   "id": "92524ccc",
   "metadata": {},
   "outputs": [
    {
     "name": "stdout",
     "output_type": "stream",
     "text": [
      "Data type for RatingValue updated to Integer.\n"
     ]
    }
   ],
   "source": [
    "# Change the data type from String to Integer for RatingValue\n",
    "\n",
    "collection.update_many({}, {\n",
    "    \"$set\": {\n",
    "        \"RatingValue\": {\"$toInt\": \"$RatingValue\"}\n",
    "    }\n",
    "})\n",
    "\n",
    "print(\"Data type for RatingValue updated to Integer.\")\n"
   ]
  },
  {
   "cell_type": "code",
   "execution_count": 87,
   "id": "0deacaf9",
   "metadata": {},
   "outputs": [
    {
     "name": "stdout",
     "output_type": "stream",
     "text": [
      "Longitude data type: <class 'bson.decimal128.Decimal128'>\n",
      "Latitude data type: <class 'bson.decimal128.Decimal128'>\n",
      "RatingValue data type: <class 'dict'>\n"
     ]
    }
   ],
   "source": [
    "# Check that the coordinates and rating value are now numbers\n",
    "\n",
    "sample_document = collection.find_one()\n",
    "\n",
    "# Print the data types of coordinates and RatingValue\n",
    "if sample_document:\n",
    "    longitude_type = type(sample_document.get('geocode', {}).get('longitude'))\n",
    "    latitude_type = type(sample_document.get('geocode', {}).get('latitude'))\n",
    "    rating_value_type = type(sample_document.get('RatingValue'))\n",
    "\n",
    "    print(f\"Longitude data type: {longitude_type}\")\n",
    "    print(f\"Latitude data type: {latitude_type}\")\n",
    "    print(f\"RatingValue data type: {rating_value_type}\")\n",
    "else:\n",
    "    print(\"No documents found.\")\n"
   ]
  }
 ],
 "metadata": {
  "kernelspec": {
   "display_name": "Python 3 (ipykernel)",
   "language": "python",
   "name": "python3"
  },
  "language_info": {
   "codemirror_mode": {
    "name": "ipython",
    "version": 3
   },
   "file_extension": ".py",
   "mimetype": "text/x-python",
   "name": "python",
   "nbconvert_exporter": "python",
   "pygments_lexer": "ipython3",
   "version": "3.11.4"
  }
 },
 "nbformat": 4,
 "nbformat_minor": 5
}
